{
 "cells": [
  {
   "attachments": {},
   "cell_type": "markdown",
   "metadata": {},
   "source": [
    "## Trade with ChatGPT"
   ]
  },
  {
   "cell_type": "code",
   "execution_count": 15,
   "metadata": {},
   "outputs": [
    {
     "name": "stdout",
     "output_type": "stream",
     "text": [
      "Cloning into 'FinRL-Meta'...\n",
      "remote: Enumerating objects: 7814, done.\u001b[K\n",
      "remote: Counting objects: 100% (53/53), done.\u001b[K\n",
      "remote: Compressing objects: 100% (42/42), done.\u001b[K\n",
      "remote: Total 7814 (delta 22), reused 34 (delta 11), pack-reused 7761\u001b[K\n",
      "Receiving objects: 100% (7814/7814), 169.33 MiB | 14.50 MiB/s, done.\n",
      "Resolving deltas: 100% (4538/4538), done.\n",
      "Updating files: 100% (418/418), done.\n"
     ]
    }
   ],
   "source": [
    "! git clone https://github.com/AI4Finance-Foundation/FinRL-Meta.git"
   ]
  },
  {
   "cell_type": "code",
   "execution_count": null,
   "metadata": {},
   "outputs": [],
   "source": [
    "%pip install git+https://github.com/carlosluis/stable-baselines3@fix_tests"
   ]
  },
  {
   "cell_type": "code",
   "execution_count": 2,
   "metadata": {},
   "outputs": [
    {
     "name": "stdout",
     "output_type": "stream",
     "text": [
      "Collecting akshare\n",
      "  Downloading akshare-1.10.35-py3-none-any.whl (1.0 MB)\n",
      "\u001b[2K     \u001b[90m━━━━━━━━━━━━━━━━━━━━━━━━━━━━━━━━━━━━━━━━\u001b[0m \u001b[32m1.0/1.0 MB\u001b[0m \u001b[31m20.9 MB/s\u001b[0m eta \u001b[36m0:00:00\u001b[0m00:01\u001b[0m\n",
      "\u001b[?25hRequirement already satisfied: beautifulsoup4>=4.9.1 in /home/codespace/.local/lib/python3.10/site-packages (from akshare) (4.12.2)\n",
      "Requirement already satisfied: lxml>=4.2.1 in /home/codespace/.local/lib/python3.10/site-packages (from akshare) (4.9.2)\n",
      "Requirement already satisfied: pandas>=0.25 in /home/codespace/.local/lib/python3.10/site-packages (from akshare) (2.0.2)\n",
      "Requirement already satisfied: requests>=2.22.0 in /home/codespace/.local/lib/python3.10/site-packages (from akshare) (2.31.0)\n",
      "Collecting pypinyin>=0.35.0 (from akshare)\n",
      "  Downloading pypinyin-0.49.0-py2.py3-none-any.whl (1.4 MB)\n",
      "\u001b[2K     \u001b[90m━━━━━━━━━━━━━━━━━━━━━━━━━━━━━━━━━━━━━━━━\u001b[0m \u001b[32m1.4/1.4 MB\u001b[0m \u001b[31m33.8 MB/s\u001b[0m eta \u001b[36m0:00:00\u001b[0m:00:01\u001b[0m\n",
      "\u001b[?25hCollecting html5lib>=1.0.1 (from akshare)\n",
      "  Downloading html5lib-1.1-py2.py3-none-any.whl (112 kB)\n",
      "\u001b[2K     \u001b[90m━━━━━━━━━━━━━━━━━━━━━━━━━━━━━━━━━━━━━━━\u001b[0m \u001b[32m112.2/112.2 kB\u001b[0m \u001b[31m6.9 MB/s\u001b[0m eta \u001b[36m0:00:00\u001b[0m\n",
      "\u001b[?25hCollecting xlrd>=1.2.0 (from akshare)\n",
      "  Downloading xlrd-2.0.1-py2.py3-none-any.whl (96 kB)\n",
      "\u001b[2K     \u001b[90m━━━━━━━━━━━━━━━━━━━━━━━━━━━━━━━━━━━━━━━━\u001b[0m \u001b[32m96.5/96.5 kB\u001b[0m \u001b[31m5.9 MB/s\u001b[0m eta \u001b[36m0:00:00\u001b[0m\n",
      "\u001b[?25hRequirement already satisfied: urllib3>=1.25.8 in /usr/local/python/3.10.8/lib/python3.10/site-packages (from akshare) (1.26.16)\n",
      "Requirement already satisfied: tqdm>=4.43.0 in /usr/local/python/3.10.8/lib/python3.10/site-packages (from akshare) (4.65.0)\n",
      "Collecting openpyxl>=3.0.3 (from akshare)\n",
      "  Downloading openpyxl-3.1.2-py2.py3-none-any.whl (249 kB)\n",
      "\u001b[2K     \u001b[90m━━━━━━━━━━━━━━━━━━━━━━━━━━━━━━━━━━━━━━\u001b[0m \u001b[32m250.0/250.0 kB\u001b[0m \u001b[31m14.1 MB/s\u001b[0m eta \u001b[36m0:00:00\u001b[0m\n",
      "\u001b[?25hCollecting jsonpath>=0.82 (from akshare)\n",
      "  Downloading jsonpath-0.82.tar.gz (9.6 kB)\n",
      "  Preparing metadata (setup.py) ... \u001b[?25ldone\n",
      "\u001b[?25hCollecting tabulate>=0.8.6 (from akshare)\n",
      "  Downloading tabulate-0.9.0-py3-none-any.whl (35 kB)\n",
      "Requirement already satisfied: decorator>=4.4.2 in /home/codespace/.local/lib/python3.10/site-packages (from akshare) (5.1.1)\n",
      "Collecting py-mini-racer>=0.6.0 (from akshare)\n",
      "  Downloading py_mini_racer-0.6.0-py2.py3-none-manylinux1_x86_64.whl (5.4 MB)\n",
      "\u001b[2K     \u001b[90m━━━━━━━━━━━━━━━━━━━━━━━━━━━━━━━━━━━━━━━━\u001b[0m \u001b[32m5.4/5.4 MB\u001b[0m \u001b[31m32.9 MB/s\u001b[0m eta \u001b[36m0:00:00\u001b[0m00:01\u001b[0m:00:01\u001b[0m\n",
      "\u001b[?25hRequirement already satisfied: soupsieve>1.2 in /home/codespace/.local/lib/python3.10/site-packages (from beautifulsoup4>=4.9.1->akshare) (2.4.1)\n",
      "Requirement already satisfied: six>=1.9 in /home/codespace/.local/lib/python3.10/site-packages (from html5lib>=1.0.1->akshare) (1.16.0)\n",
      "Requirement already satisfied: webencodings in /home/codespace/.local/lib/python3.10/site-packages (from html5lib>=1.0.1->akshare) (0.5.1)\n",
      "Collecting et-xmlfile (from openpyxl>=3.0.3->akshare)\n",
      "  Downloading et_xmlfile-1.1.0-py3-none-any.whl (4.7 kB)\n",
      "Requirement already satisfied: python-dateutil>=2.8.2 in /home/codespace/.local/lib/python3.10/site-packages (from pandas>=0.25->akshare) (2.8.2)\n",
      "Requirement already satisfied: pytz>=2020.1 in /home/codespace/.local/lib/python3.10/site-packages (from pandas>=0.25->akshare) (2023.3)\n",
      "Requirement already satisfied: tzdata>=2022.1 in /home/codespace/.local/lib/python3.10/site-packages (from pandas>=0.25->akshare) (2023.3)\n",
      "Requirement already satisfied: numpy>=1.21.0 in /home/codespace/.local/lib/python3.10/site-packages (from pandas>=0.25->akshare) (1.24.3)\n",
      "Requirement already satisfied: charset-normalizer<4,>=2 in /usr/local/python/3.10.8/lib/python3.10/site-packages (from requests>=2.22.0->akshare) (2.1.1)\n",
      "Requirement already satisfied: idna<4,>=2.5 in /home/codespace/.local/lib/python3.10/site-packages (from requests>=2.22.0->akshare) (3.4)\n",
      "Requirement already satisfied: certifi>=2017.4.17 in /home/codespace/.local/lib/python3.10/site-packages (from requests>=2.22.0->akshare) (2023.5.7)\n",
      "Building wheels for collected packages: jsonpath\n",
      "  Building wheel for jsonpath (setup.py) ... \u001b[?25ldone\n",
      "\u001b[?25h  Created wheel for jsonpath: filename=jsonpath-0.82-py3-none-any.whl size=5610 sha256=2a4c1155dbfddccf9f8b6576037e18dbb07d57b6337ce0ca770cecee9326a96d\n",
      "  Stored in directory: /home/codespace/.cache/pip/wheels/93/9d/2f/4dcbb0d8fdc7901bba9976a8f31f29f476460de7cb27259e2b\n",
      "Successfully built jsonpath\n",
      "Installing collected packages: py-mini-racer, jsonpath, xlrd, tabulate, pypinyin, html5lib, et-xmlfile, openpyxl, akshare\n",
      "Successfully installed akshare-1.10.35 et-xmlfile-1.1.0 html5lib-1.1 jsonpath-0.82 openpyxl-3.1.2 py-mini-racer-0.6.0 pypinyin-0.49.0 tabulate-0.9.0 xlrd-2.0.1\n"
     ]
    }
   ],
   "source": [
    "%pip install akshare"
   ]
  },
  {
   "cell_type": "code",
   "execution_count": 3,
   "metadata": {},
   "outputs": [],
   "source": [
    "import sys\n",
    "sys.path.append(\".\\FinRL-Meta\")  # Your FinRL-Meta dir\n",
    "import pandas as pd\n",
    "from meta.data_processors.akshare import Akshare\n",
    "import datetime\n",
    "import matplotlib.pyplot as plt"
   ]
  },
  {
   "attachments": {},
   "cell_type": "markdown",
   "metadata": {},
   "source": [
    "#### Read data"
   ]
  },
  {
   "cell_type": "code",
   "execution_count": 4,
   "metadata": {},
   "outputs": [
    {
     "data": {
      "text/html": [
       "<div>\n",
       "<style scoped>\n",
       "    .dataframe tbody tr th:only-of-type {\n",
       "        vertical-align: middle;\n",
       "    }\n",
       "\n",
       "    .dataframe tbody tr th {\n",
       "        vertical-align: top;\n",
       "    }\n",
       "\n",
       "    .dataframe thead th {\n",
       "        text-align: right;\n",
       "    }\n",
       "</style>\n",
       "<table border=\"1\" class=\"dataframe\">\n",
       "  <thead>\n",
       "    <tr style=\"text-align: right;\">\n",
       "      <th></th>\n",
       "      <th>CODE</th>\n",
       "      <th>NAME</th>\n",
       "      <th>DATE</th>\n",
       "      <th>CREATED_DATE</th>\n",
       "      <th>text_a</th>\n",
       "      <th>DESCRIPTION</th>\n",
       "      <th>READ</th>\n",
       "      <th>MARKET</th>\n",
       "      <th>CHANGE</th>\n",
       "      <th>FIRST_DAY</th>\n",
       "      <th>...</th>\n",
       "      <th>A0_mask</th>\n",
       "      <th>A1_mask</th>\n",
       "      <th>AV_num</th>\n",
       "      <th>trade_date</th>\n",
       "      <th>open_close_chg</th>\n",
       "      <th>co_label</th>\n",
       "      <th>cc_label</th>\n",
       "      <th>stock_factors</th>\n",
       "      <th>label</th>\n",
       "      <th>chatgpt_res</th>\n",
       "    </tr>\n",
       "  </thead>\n",
       "  <tbody>\n",
       "    <tr>\n",
       "      <th>0</th>\n",
       "      <td>600519</td>\n",
       "      <td>贵州茅台</td>\n",
       "      <td>2021-01-07 18:24:00</td>\n",
       "      <td>2021-01-07 18:23:00</td>\n",
       "      <td>贵州茅台公告，董事会于2021年1月6日收到公司董事王焱的书面辞职报告，王焱因工作变动，申请...</td>\n",
       "      <td>贵州茅台公告，董事会于2021年1月6日收到公司董事王焱的书面辞职报告，王焱因工作变动，申请...</td>\n",
       "      <td>5034011.0</td>\n",
       "      <td>1.0</td>\n",
       "      <td>0.000935</td>\n",
       "      <td>2021-01-07</td>\n",
       "      <td>...</td>\n",
       "      <td>[[0. 0. 0. ... 0. 0. 0.]\\n [0. 0. 0. ... 0. 0....</td>\n",
       "      <td>[[0. 0. 0. ... 0. 0. 0.]\\n [0. 0. 0. ... 0. 0....</td>\n",
       "      <td>3.0</td>\n",
       "      <td>2021-01-07</td>\n",
       "      <td>0.247727</td>\n",
       "      <td>4.0</td>\n",
       "      <td>4.0</td>\n",
       "      <td>[39.43367824665831, 39.12671101868472, 39.9102...</td>\n",
       "      <td>1</td>\n",
       "      <td>在考虑董事辞职的情况下，以下是一个可能的回答：\\n\\n持有不动：基于董事辞职的信息，你可以选...</td>\n",
       "    </tr>\n",
       "  </tbody>\n",
       "</table>\n",
       "<p>1 rows × 42 columns</p>\n",
       "</div>"
      ],
      "text/plain": [
       "     CODE  NAME                 DATE         CREATED_DATE  \\\n",
       "0  600519  贵州茅台  2021-01-07 18:24:00  2021-01-07 18:23:00   \n",
       "\n",
       "                                              text_a  \\\n",
       "0  贵州茅台公告，董事会于2021年1月6日收到公司董事王焱的书面辞职报告，王焱因工作变动，申请...   \n",
       "\n",
       "                                         DESCRIPTION       READ  MARKET  \\\n",
       "0  贵州茅台公告，董事会于2021年1月6日收到公司董事王焱的书面辞职报告，王焱因工作变动，申请...  5034011.0     1.0   \n",
       "\n",
       "     CHANGE   FIRST_DAY  ...  \\\n",
       "0  0.000935  2021-01-07  ...   \n",
       "\n",
       "                                             A0_mask  \\\n",
       "0  [[0. 0. 0. ... 0. 0. 0.]\\n [0. 0. 0. ... 0. 0....   \n",
       "\n",
       "                                             A1_mask  AV_num  trade_date  \\\n",
       "0  [[0. 0. 0. ... 0. 0. 0.]\\n [0. 0. 0. ... 0. 0....     3.0  2021-01-07   \n",
       "\n",
       "  open_close_chg  co_label  cc_label  \\\n",
       "0       0.247727       4.0       4.0   \n",
       "\n",
       "                                       stock_factors  label  \\\n",
       "0  [39.43367824665831, 39.12671101868472, 39.9102...      1   \n",
       "\n",
       "                                         chatgpt_res  \n",
       "0  在考虑董事辞职的情况下，以下是一个可能的回答：\\n\\n持有不动：基于董事辞职的信息，你可以选...  \n",
       "\n",
       "[1 rows x 42 columns]"
      ]
     },
     "execution_count": 4,
     "metadata": {},
     "output_type": "execute_result"
    }
   ],
   "source": [
    "df = pd.read_csv(\"./data/maotai.csv\")\n",
    "df.head(1)"
   ]
  },
  {
   "attachments": {},
   "cell_type": "markdown",
   "metadata": {},
   "source": [
    "#### Generate Signal from ChatGPT"
   ]
  },
  {
   "cell_type": "code",
   "execution_count": 5,
   "metadata": {},
   "outputs": [],
   "source": [
    "def generate_signal_from_chatgpt(x):\n",
    "    chatgpt_res = x.chatgpt_res\n",
    "    if \"持有不动\" in chatgpt_res:\n",
    "        signal = 0\n",
    "    if \"小幅加仓\" in chatgpt_res:\n",
    "        signal = 1\n",
    "    elif \"小幅减仓\" in chatgpt_res:\n",
    "        signal = -1\n",
    "    if \"大幅加仓\" in chatgpt_res:\n",
    "        signal = 2\n",
    "    elif \"大幅减仓\" in chatgpt_res:\n",
    "        signal = -2\n",
    "    return signal"
   ]
  },
  {
   "cell_type": "code",
   "execution_count": 6,
   "metadata": {},
   "outputs": [],
   "source": [
    "df[\"signal\"] = df.apply(generate_signal_from_chatgpt,axis = 1)"
   ]
  },
  {
   "cell_type": "code",
   "execution_count": 15,
   "metadata": {},
   "outputs": [
    {
     "data": {
      "text/plain": [
       "0     0\n",
       "1     1\n",
       "2     0\n",
       "3     0\n",
       "4     0\n",
       "5     0\n",
       "6     0\n",
       "7     0\n",
       "8     0\n",
       "9     0\n",
       "10    0\n",
       "11    0\n",
       "12   -2\n",
       "13   -2\n",
       "14   -2\n",
       "Name: signal, dtype: int64"
      ]
     },
     "execution_count": 15,
     "metadata": {},
     "output_type": "execute_result"
    }
   ],
   "source": [
    "df[\"signal\"]"
   ]
  },
  {
   "attachments": {},
   "cell_type": "markdown",
   "metadata": {},
   "source": [
    "#### Generate Signal by yourself\n",
    "Here the result of ChatGPT is just a suggestion, you need to make trading signal after considering both news and the result of ChatGPT"
   ]
  },
  {
   "cell_type": "code",
   "execution_count": 17,
   "metadata": {},
   "outputs": [],
   "source": [
    "def generate_signal_from_chatgpt_by_yourself(x):\n",
    "    chatgpt_res = x.chatgpt_res\n",
    "    news = x.text_a\n",
    "    signal = input(\n",
    "        f'- {news}\\n - {chatgpt_res}\\n (Please input 1 for buy or 0 for hold or -1 for sell)'\n",
    "        )\n",
    "    return int(signal)"
   ]
  },
  {
   "cell_type": "code",
   "execution_count": 18,
   "metadata": {},
   "outputs": [],
   "source": [
    "df[\"signal_by_yourself\"] = df.apply(generate_signal_from_chatgpt_by_yourself,axis = 1)"
   ]
  },
  {
   "cell_type": "code",
   "execution_count": 19,
   "metadata": {},
   "outputs": [
    {
     "data": {
      "text/plain": [
       "0    -1\n",
       "1     1\n",
       "2     1\n",
       "3     0\n",
       "4     0\n",
       "5     0\n",
       "6     0\n",
       "7     1\n",
       "8     1\n",
       "9     0\n",
       "10   -1\n",
       "11    1\n",
       "12   -1\n",
       "13   -1\n",
       "14    1\n",
       "Name: signal_by_yourself, dtype: int64"
      ]
     },
     "execution_count": 19,
     "metadata": {},
     "output_type": "execute_result"
    }
   ],
   "source": [
    "df[\"signal_by_yourself\"]"
   ]
  },
  {
   "attachments": {},
   "cell_type": "markdown",
   "metadata": {},
   "source": [
    "#### Fetching price data from FinRL-Meta"
   ]
  },
  {
   "cell_type": "code",
   "execution_count": 7,
   "metadata": {},
   "outputs": [],
   "source": [
    "df.DATE = pd.to_datetime(df.DATE)\n",
    "df.DATE = df.DATE.dt.date.astype(str)\n",
    "max_date = datetime.datetime.strptime(df.DATE.max(),\"%Y-%m-%d\")\n",
    "max_date += datetime.timedelta(days=10)\n",
    "max_date = max_date.strftime(\"%Y-%m-%d\")"
   ]
  },
  {
   "cell_type": "code",
   "execution_count": 8,
   "metadata": {},
   "outputs": [],
   "source": [
    "time_interval = \"daily\"\n",
    "start_date= df.DATE.min()\n",
    "end_date = max_date\n",
    "adjust=\"\"\n",
    "\n",
    "ticket_list=[f'{df.iloc[0].CODE}.SH', ]"
   ]
  },
  {
   "cell_type": "code",
   "execution_count": 9,
   "metadata": {},
   "outputs": [
    {
     "name": "stderr",
     "output_type": "stream",
     "text": [
      "  0%|          | 0/1 [00:00<?, ?it/s]"
     ]
    },
    {
     "name": "stderr",
     "output_type": "stream",
     "text": [
      "100%|██████████| 1/1 [00:02<00:00,  2.68s/it]"
     ]
    },
    {
     "name": "stdout",
     "output_type": "stream",
     "text": [
      "Download complete! Dataset saved to ./data/dataset.csv. \n",
      "Shape of DataFrame: (196, 8)\n"
     ]
    },
    {
     "name": "stderr",
     "output_type": "stream",
     "text": [
      "\n"
     ]
    },
    {
     "data": {
      "text/plain": [
       "(196, 8)"
      ]
     },
     "execution_count": 9,
     "metadata": {},
     "output_type": "execute_result"
    }
   ],
   "source": [
    "as_processor = Akshare(\"akshare\",start_date=start_date,end_date=end_date,time_interval=time_interval)\n",
    "as_processor.download_data(ticket_list)\n",
    "as_processor.dataframe.shape"
   ]
  },
  {
   "attachments": {},
   "cell_type": "markdown",
   "metadata": {},
   "source": [
    "#### Trading\n",
    "Since we only have the news for several days here, we only calculated the dicision results made by Chatgpt or by combining Chatgpt and your own opinion"
   ]
  },
  {
   "cell_type": "code",
   "execution_count": 10,
   "metadata": {},
   "outputs": [
    {
     "data": {
      "text/html": [
       "<div>\n",
       "<style scoped>\n",
       "    .dataframe tbody tr th:only-of-type {\n",
       "        vertical-align: middle;\n",
       "    }\n",
       "\n",
       "    .dataframe tbody tr th {\n",
       "        vertical-align: top;\n",
       "    }\n",
       "\n",
       "    .dataframe thead th {\n",
       "        text-align: right;\n",
       "    }\n",
       "</style>\n",
       "<table border=\"1\" class=\"dataframe\">\n",
       "  <thead>\n",
       "    <tr style=\"text-align: right;\">\n",
       "      <th></th>\n",
       "      <th>tic</th>\n",
       "      <th>time</th>\n",
       "      <th>open</th>\n",
       "      <th>high</th>\n",
       "      <th>low</th>\n",
       "      <th>close</th>\n",
       "      <th>volume</th>\n",
       "      <th>day</th>\n",
       "    </tr>\n",
       "  </thead>\n",
       "  <tbody>\n",
       "    <tr>\n",
       "      <th>0</th>\n",
       "      <td>600519.SH</td>\n",
       "      <td>2021-01-07</td>\n",
       "      <td>2097.0</td>\n",
       "      <td>2140.0</td>\n",
       "      <td>2075.0</td>\n",
       "      <td>2140.0</td>\n",
       "      <td>37931</td>\n",
       "      <td>3</td>\n",
       "    </tr>\n",
       "  </tbody>\n",
       "</table>\n",
       "</div>"
      ],
      "text/plain": [
       "         tic        time    open    high     low   close  volume  day\n",
       "0  600519.SH  2021-01-07  2097.0  2140.0  2075.0  2140.0   37931    3"
      ]
     },
     "execution_count": 10,
     "metadata": {},
     "output_type": "execute_result"
    }
   ],
   "source": [
    "price_df = as_processor.dataframe\n",
    "price_df = price_df.reset_index(drop=True)\n",
    "price_df.head(1)"
   ]
  },
  {
   "cell_type": "code",
   "execution_count": 12,
   "metadata": {},
   "outputs": [],
   "source": [
    "def cal_reward(x,by_yourself = False, hold = False):\n",
    "    # get price\n",
    "    this_date = x.DATE\n",
    "    this_price = price_df[price_df.time == this_date]\n",
    "    \n",
    "    while this_price.shape[0] == 0:\n",
    "        this_date = datetime.datetime.strptime(this_date,\"%Y-%m-%d\")\n",
    "        this_date += datetime.timedelta(days=1)\n",
    "        this_date = this_date.strftime(\"%Y-%m-%d\")\n",
    "        this_price = price_df[price_df.time == this_date]\n",
    "    \n",
    "    next_price = price_df.iloc[this_price.index+1]\n",
    "    this_close = this_price.close.item()\n",
    "    next_open = next_price.open.item()\n",
    "    next_close = next_price.close.item() # T+1\n",
    "    \n",
    "    if hold:\n",
    "        signal = 1\n",
    "    else:\n",
    "        if by_yourself:\n",
    "            signal = x.signal_by_yourself\n",
    "        else:\n",
    "            signal = x.signal\n",
    "\n",
    "    reward = signal * (next_close-this_close)/this_close\n",
    "    return reward\n"
   ]
  },
  {
   "cell_type": "code",
   "execution_count": 20,
   "metadata": {},
   "outputs": [],
   "source": [
    "df[\"reward\"] = df.apply(lambda x:cal_reward(x),axis = 1)\n",
    "df[\"reward_by_yourself\"] = df.apply(lambda x:cal_reward(x,by_yourself = True),axis = 1)\n",
    "df[\"reward_hold\"] = df.apply(lambda x:cal_reward(x,hold = True),axis = 1)"
   ]
  },
  {
   "cell_type": "code",
   "execution_count": 21,
   "metadata": {},
   "outputs": [],
   "source": [
    "reward_list = (df[\"reward\"] +1 ).cumprod().to_list()\n",
    "reward_hold_list = (df[\"reward_hold\"] +1 ).cumprod().to_list()\n",
    "reward_yourself_list = (df[\"reward_by_yourself\"] +1 ).cumprod().to_list()\n",
    "reward_list = [i/reward_list[0] for i in reward_list]\n",
    "reward_hold_list = [i/reward_hold_list[0] for i in reward_hold_list]\n",
    "reward_yourself_list = [i/reward_yourself_list[0] for i in reward_yourself_list]\n"
   ]
  },
  {
   "cell_type": "code",
   "execution_count": 22,
   "metadata": {},
   "outputs": [
    {
     "data": {
      "image/png": "[encoded data removed]",
      "text/plain": [
       "<Figure size 2000x500 with 1 Axes>"
      ]
     },
     "metadata": {},
     "output_type": "display_data"
    }
   ],
   "source": [
    "date_list = df.DATE\n",
    "plt.figure(figsize=(20,5))\n",
    "plt.plot(date_list, reward_list, label = \"Reward by ChatGPT\")\n",
    "plt.plot(date_list, reward_yourself_list, label= \"Reward with ChatGPT\")\n",
    "plt.plot(date_list, reward_hold_list, label= \"Buy and hold\")\n",
    "plt.title(\"Maotai ChatGPT Trading Results\")\n",
    "plt.legend()\n",
    "plt.show()"
   ]
  }
 ],
 "metadata": {
  "kernelspec": {
   "display_name": "finrl",
   "language": "python",
   "name": "python3"
  },
  "language_info": {
   "codemirror_mode": {
    "name": "ipython",
    "version": 3
   },
   "file_extension": ".py",
   "mimetype": "text/x-python",
   "name": "python",
   "nbconvert_exporter": "python",
   "pygments_lexer": "ipython3",
   "version": "3.10.8"
  },
  "orig_nbformat": 4,
  "vscode": {
   "interpreter": {
    "hash": "afd6dc03c9be451573fc2885de79a969af6a24a159f11a3ead741ab7a9ff405f"
   }
  }
 },
 "nbformat": 4,
 "nbformat_minor": 2
}
